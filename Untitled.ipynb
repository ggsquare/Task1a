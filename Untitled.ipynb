{
 "cells": [
  {
   "cell_type": "markdown",
   "metadata": {},
   "source": [
    "## Task1a Cross Validation for Ridge Regression"
   ]
  },
  {
   "cell_type": "code",
   "execution_count": 12,
   "metadata": {},
   "outputs": [],
   "source": [
    "import pandas as pd\n",
    "import numpy as np\n",
    "import matplotlib.pyplot as plt\n",
    "from sklearn import datasets, linear_model\n",
    "from sklearn.linear_model import Ridge\n",
    "from sklearn.metrics import mean_squared_error\n",
    "from sklearn.model_selection import train_test_split\n",
    "from sklearn.model_selection import KFold"
   ]
  },
  {
   "cell_type": "code",
   "execution_count": 13,
   "metadata": {},
   "outputs": [
    {
     "data": {
      "text/html": [
       "<div>\n",
       "<style scoped>\n",
       "    .dataframe tbody tr th:only-of-type {\n",
       "        vertical-align: middle;\n",
       "    }\n",
       "\n",
       "    .dataframe tbody tr th {\n",
       "        vertical-align: top;\n",
       "    }\n",
       "\n",
       "    .dataframe thead th {\n",
       "        text-align: right;\n",
       "    }\n",
       "</style>\n",
       "<table border=\"1\" class=\"dataframe\">\n",
       "  <thead>\n",
       "    <tr style=\"text-align: right;\">\n",
       "      <th></th>\n",
       "      <th>Id</th>\n",
       "      <th>y</th>\n",
       "      <th>x1</th>\n",
       "      <th>x2</th>\n",
       "      <th>x3</th>\n",
       "      <th>x4</th>\n",
       "      <th>x5</th>\n",
       "      <th>x6</th>\n",
       "      <th>x7</th>\n",
       "      <th>x8</th>\n",
       "      <th>x9</th>\n",
       "      <th>x10</th>\n",
       "    </tr>\n",
       "  </thead>\n",
       "  <tbody>\n",
       "    <tr>\n",
       "      <th>0</th>\n",
       "      <td>0</td>\n",
       "      <td>508.451970</td>\n",
       "      <td>0.886865</td>\n",
       "      <td>0.400531</td>\n",
       "      <td>1.103694</td>\n",
       "      <td>0.135455</td>\n",
       "      <td>8.148069</td>\n",
       "      <td>9.787555</td>\n",
       "      <td>79.749674</td>\n",
       "      <td>0.045166</td>\n",
       "      <td>1.859346</td>\n",
       "      <td>1.0</td>\n",
       "    </tr>\n",
       "    <tr>\n",
       "      <th>1</th>\n",
       "      <td>1</td>\n",
       "      <td>3972.980713</td>\n",
       "      <td>0.303604</td>\n",
       "      <td>-1.661598</td>\n",
       "      <td>0.772695</td>\n",
       "      <td>1.696182</td>\n",
       "      <td>0.455550</td>\n",
       "      <td>86.413653</td>\n",
       "      <td>39.365705</td>\n",
       "      <td>-0.014858</td>\n",
       "      <td>0.821406</td>\n",
       "      <td>1.0</td>\n",
       "    </tr>\n",
       "    <tr>\n",
       "      <th>2</th>\n",
       "      <td>2</td>\n",
       "      <td>-1.084332</td>\n",
       "      <td>1.065927</td>\n",
       "      <td>-1.607320</td>\n",
       "      <td>0.063896</td>\n",
       "      <td>-0.724311</td>\n",
       "      <td>-0.088216</td>\n",
       "      <td>0.132828</td>\n",
       "      <td>-0.011718</td>\n",
       "      <td>-0.773193</td>\n",
       "      <td>-1.489933</td>\n",
       "      <td>1.0</td>\n",
       "    </tr>\n",
       "    <tr>\n",
       "      <th>3</th>\n",
       "      <td>3</td>\n",
       "      <td>-340.149697</td>\n",
       "      <td>0.049530</td>\n",
       "      <td>-0.780820</td>\n",
       "      <td>-1.653181</td>\n",
       "      <td>0.663369</td>\n",
       "      <td>-2.492097</td>\n",
       "      <td>-1.243722</td>\n",
       "      <td>3.099476</td>\n",
       "      <td>-1.037881</td>\n",
       "      <td>0.346979</td>\n",
       "      <td>1.0</td>\n",
       "    </tr>\n",
       "    <tr>\n",
       "      <th>4</th>\n",
       "      <td>4</td>\n",
       "      <td>572.648651</td>\n",
       "      <td>0.417725</td>\n",
       "      <td>-1.150429</td>\n",
       "      <td>0.258384</td>\n",
       "      <td>0.045522</td>\n",
       "      <td>5.676019</td>\n",
       "      <td>-0.470274</td>\n",
       "      <td>-2.669283</td>\n",
       "      <td>0.632083</td>\n",
       "      <td>-0.510847</td>\n",
       "      <td>1.0</td>\n",
       "    </tr>\n",
       "  </tbody>\n",
       "</table>\n",
       "</div>"
      ],
      "text/plain": [
       "   Id            y        x1        x2        x3        x4        x5  \\\n",
       "0   0   508.451970  0.886865  0.400531  1.103694  0.135455  8.148069   \n",
       "1   1  3972.980713  0.303604 -1.661598  0.772695  1.696182  0.455550   \n",
       "2   2    -1.084332  1.065927 -1.607320  0.063896 -0.724311 -0.088216   \n",
       "3   3  -340.149697  0.049530 -0.780820 -1.653181  0.663369 -2.492097   \n",
       "4   4   572.648651  0.417725 -1.150429  0.258384  0.045522  5.676019   \n",
       "\n",
       "          x6         x7        x8        x9  x10  \n",
       "0   9.787555  79.749674  0.045166  1.859346  1.0  \n",
       "1  86.413653  39.365705 -0.014858  0.821406  1.0  \n",
       "2   0.132828  -0.011718 -0.773193 -1.489933  1.0  \n",
       "3  -1.243722   3.099476 -1.037881  0.346979  1.0  \n",
       "4  -0.470274  -2.669283  0.632083 -0.510847  1.0  "
      ]
     },
     "execution_count": 13,
     "metadata": {},
     "output_type": "execute_result"
    }
   ],
   "source": [
    "df = pd.read_csv('./train.csv')\n",
    "df.head(5)"
   ]
  },
  {
   "cell_type": "code",
   "execution_count": 14,
   "metadata": {},
   "outputs": [],
   "source": [
    "y = df['y']\n",
    "X = df._drop_axis(['Id','y'], axis=1)\n",
    "\n",
    "#change to numpy for split function\n",
    "X = np.array(X)\n",
    "y = np.array(y)"
   ]
  },
  {
   "cell_type": "code",
   "execution_count": 15,
   "metadata": {},
   "outputs": [
    {
     "name": "stdout",
     "output_type": "stream",
     "text": [
      "0.0\n",
      "<generator object _BaseKFold.split at 0x0000016687A0E518>\n"
     ]
    }
   ],
   "source": [
    "#Set lambdas and k\n",
    "lambdas = [.1, 1, 10, 100, 1000]\n",
    "k = 10\n",
    "submit = np.zeros(5)\n",
    "print(submit[0])\n",
    "RSME = 0\n",
    "i = 0\n",
    "\n",
    "reg = linear_model.LinearRegression()\n",
    "\n",
    "#Split into k folds, each fold contains 50 rows, since (500 total rows / 10 folds)\n",
    "kf = KFold(10)\n",
    "print(kf.split(X))"
   ]
  },
  {
   "cell_type": "code",
   "execution_count": 16,
   "metadata": {},
   "outputs": [],
   "source": [
    "for l in lambdas:\n",
    "    RMSE = 0\n",
    "    \n",
    "    #method taken from scikit-learn.org \n",
    "    #not correct\n",
    "    for train_index, test_index in kf.split(X):\n",
    "        X_train, X_test = X[train_index], X[test_index]\n",
    "        y_train, y_test = y[train_index], y[test_index]\n",
    "        \n",
    "        ridge = Ridge(alpha=l) #alpha is lambda here\n",
    "        ridge.fit(X_train, y_train)\n",
    "        y_pred = ridge.predict(X_test)\n",
    "    \n",
    "        RMSE += mean_squared_error(y_pred, y_test)**0.5\n",
    "    RMSE /= 10\n",
    "    submit[i] = RMSE\n",
    "    i = i + 1"
   ]
  },
  {
   "cell_type": "code",
   "execution_count": 17,
   "metadata": {},
   "outputs": [
    {
     "name": "stdout",
     "output_type": "stream",
     "text": [
      "[ 1.0059384   1.00260025  1.01974941  2.57628471 21.89447516]\n"
     ]
    }
   ],
   "source": [
    "print(submit)"
   ]
  },
  {
   "cell_type": "code",
   "execution_count": 19,
   "metadata": {},
   "outputs": [],
   "source": [
    "np.savetxt(\"submit2.csv\", submit, delimiter=\",\")"
   ]
  },
  {
   "cell_type": "code",
   "execution_count": null,
   "metadata": {},
   "outputs": [],
   "source": []
  }
 ],
 "metadata": {
  "kernelspec": {
   "display_name": "Python 3",
   "language": "python",
   "name": "python3"
  },
  "language_info": {
   "codemirror_mode": {
    "name": "ipython",
    "version": 3
   },
   "file_extension": ".py",
   "mimetype": "text/x-python",
   "name": "python",
   "nbconvert_exporter": "python",
   "pygments_lexer": "ipython3",
   "version": "3.6.4"
  }
 },
 "nbformat": 4,
 "nbformat_minor": 2
}
